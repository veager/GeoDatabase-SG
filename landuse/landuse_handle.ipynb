{
 "cells": [
  {
   "cell_type": "code",
   "execution_count": null,
   "id": "d7306605-82e8-4777-b515-b0c54b242f24",
   "metadata": {},
   "outputs": [],
   "source": [
    "import sys\n",
    "import numpy as np\n",
    "import pandas as pd\n",
    "import geopandas as gpd\n",
    "import matplotlib.pyplot as plt"
   ]
  },
  {
   "cell_type": "markdown",
   "id": "1a706763-e46b-49dc-9193-5af664046abf",
   "metadata": {},
   "source": [
    "# 1. Modify the Land use data\n",
    "\n",
    "- convert the CRS from \"epsg:4326\" to \"SVY21\"\n",
    "\n",
    "- fixed the invalid geometry objects"
   ]
  },
  {
   "cell_type": "code",
   "execution_count": null,
   "id": "f7f4750c-033d-4aed-9b9e-1e94bfbf38aa",
   "metadata": {},
   "outputs": [],
   "source": [
    "# read zone, extract the zone CRS\n",
    "def read_zone(file_path):\n",
    "    '''\n",
    "    '''\n",
    "    zone_gdf = gpd.read_file(file_path, \n",
    "                             dtype = {'SUBZONE_C': str})\n",
    "\n",
    "    zone_gdf = zone_gdf[['SUBZONE_C', 'geometry']]\n",
    "    zone_gdf = zone_gdf.rename(columns = {'SUBZONE_C' : 'zone_code'})\n",
    "    \n",
    "    try:\n",
    "        assert zone_gdf['zone_code'].unique().shape[0] == zone_gdf.shape[0]\n",
    "    except:\n",
    "        print('zone number:', zone_gdf['zone_code'].unique().shape[0], zone_gdf.shape[0])\n",
    "        sys.exit(0)\n",
    "    return zone_gdf\n",
    "# ============================================================================================="
   ]
  },
  {
   "cell_type": "code",
   "execution_count": null,
   "id": "76f17275-c5b5-4123-8111-c3afc5a96173",
   "metadata": {},
   "outputs": [],
   "source": [
    "# read land use\n",
    "def read_landuse(file_path):\n",
    "    # read land use\n",
    "    landuse_gdf = gpd.read_file(file_path)\n",
    "    \n",
    "    # drop NA columns\n",
    "    landuse_gdf = landuse_gdf.dropna(axis=1, how=\"all\")\n",
    "    \n",
    "    landuse_gdf = landuse_gdf[['LU_DESC', 'geometry']]\n",
    "    landuse_gdf = landuse_gdf.rename(columns = {'LU_DESC' : 'type'})\n",
    "    \n",
    "    return landuse_gdf\n",
    "# ============================================================================================="
   ]
  },
  {
   "cell_type": "code",
   "execution_count": null,
   "id": "03e01c37-0915-4c63-8b04-c2b8a73388bb",
   "metadata": {},
   "outputs": [],
   "source": [
    "# read zone\n",
    "file_path = \"zip://MP2019-boundray-zone-SVY21.zip!MP2019-boundray-zone-SVY21/MP2019-subzone/MP2019-subzone.shp\"\n",
    "zone_gdf = read_zone(file_path)\n",
    "# print(zone_gdf.crs)  # \"SVY21\"\n",
    "CRS = zone_gdf.crs"
   ]
  },
  {
   "cell_type": "code",
   "execution_count": null,
   "id": "5c26be6a-bc42-420e-9d10-1da2421593ce",
   "metadata": {},
   "outputs": [],
   "source": [
    "# read land use\n",
    "file_path = \"zip://MP2019-landuse-shapefiles.zip!MP2019-landuse-shapefiles/MP2019-landuse.shp\"\n",
    "landuse_gdf = read_landuse(file_path)\n",
    "print(landuse_gdf.crs)  # \"epsg:4326\"\n",
    "landuse_gdf = landuse_gdf.to_crs(CRS)"
   ]
  },
  {
   "cell_type": "code",
   "execution_count": null,
   "id": "3bf03ad1-7aaa-4296-b531-2c18f47d1455",
   "metadata": {},
   "outputs": [],
   "source": [
    "# invalid geometry indices of the land use\n",
    "invalid_li = list(map(lambda x : not x, landuse_gdf.is_valid.to_list()))\n",
    "print('number of invalid geometry before fix :', sum(invalid_li))\n",
    "area_before_fix = landuse_gdf[invalid_li].area\n",
    "\n",
    "\n",
    "# fix invalid geometry\n",
    "landuse_gdf.loc[invalid_li, 'geometry'] = landuse_gdf.loc[invalid_li, 'geometry'].buffer(0)\n",
    "\n",
    "\n",
    "# invalid geometry indices after fixed\n",
    "invalid_li_ = list(map(lambda x : not x, landuse_gdf.is_valid.to_list()))\n",
    "print('number of invalid geometry after fix :', sum(invalid_li_))\n",
    "area_after_fix = landuse_gdf[invalid_li].area\n",
    "\n",
    "# compute the area \n",
    "area_compare = pd.concat([area_before_fix, area_after_fix], axis=1)\n",
    "area_compare['diff'] = area_after_fix - area_before_fix\n",
    "area_compare"
   ]
  },
  {
   "cell_type": "code",
   "execution_count": null,
   "id": "f1395133-487c-4c51-ae73-d62db225a361",
   "metadata": {},
   "outputs": [],
   "source": [
    "# add \"area\" column\n",
    "landuse_gdf['area'] = landuse_gdf.area\n",
    "\n",
    "# save fixed land use\n",
    "landuse_gdf.to_file('MP2019-landuse-SVY21')"
   ]
  }
 ],
 "metadata": {
  "kernelspec": {
   "display_name": "Python 3 (ipykernel)",
   "language": "python",
   "name": "python3"
  },
  "language_info": {
   "codemirror_mode": {
    "name": "ipython",
    "version": 3
   },
   "file_extension": ".py",
   "mimetype": "text/x-python",
   "name": "python",
   "nbconvert_exporter": "python",
   "pygments_lexer": "ipython3",
   "version": "3.7.12"
  }
 },
 "nbformat": 4,
 "nbformat_minor": 5
}
