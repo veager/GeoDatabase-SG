{
 "cells": [
  {
   "cell_type": "code",
   "execution_count": 20,
   "id": "e390fc56-1a7d-46e8-9e7e-27dbac8b76b3",
   "metadata": {},
   "outputs": [],
   "source": [
    "import os\n",
    "import numpy as np\n",
    "import pandas as pd\n",
    "import geopandas as gpd\n",
    "import networkx as nx\n",
    "import matplotlib.pyplot as plt\n",
    "\n",
    "import PyCodesDataProcessingBase.DataProceesingBase_GetBusNet as gbn\n",
    "import PyCodesDataProcessingBase.DataProceesingBase_GetBusRoute as gbr\n",
    "import PyCodesDataProcessingBase.DataProceesingBase_GetTransitVol as gtv\n",
    "import PyCodesDataProcessingBase.DataProcessingBase_GetZonePop as gzp\n",
    "import PyCodesDataProcessingBase.DataProceesingBase_GetTrainNet as gtn"
   ]
  },
  {
   "cell_type": "code",
   "execution_count": 21,
   "id": "af3ecfb4-57bc-4b7e-9ec0-01f2c2bac961",
   "metadata": {},
   "outputs": [
    {
     "data": {
      "text/plain": [
       "<module 'PyCodesDataProcessingBase.DataProceesingBase_GetTransitVol' from 'C:\\\\zhouweifile\\\\Transportation Data\\\\Singapore Geodatabase\\\\PyCodesDataProcessingBase\\\\DataProceesingBase_GetTransitVol.py'>"
      ]
     },
     "execution_count": 21,
     "metadata": {},
     "output_type": "execute_result"
    }
   ],
   "source": [
    "import importlib\n",
    "# importlib.reload()\n",
    "importlib.reload(gzp)\n",
    "importlib.reload(gtv)"
   ]
  },
  {
   "cell_type": "code",
   "execution_count": 22,
   "id": "50ee8138-7dcf-4b9e-8d05-f03741d31c73",
   "metadata": {},
   "outputs": [],
   "source": [
    "pd.set_option('display.max_rows', 20)\n",
    "pd.set_option('display.max_columns', 10)\n",
    "pd.set_option('display.width', 1000)\n",
    "pd.set_option('display.colheader_justify', 'center')\n",
    "pd.set_option('display.precision', 3)"
   ]
  },
  {
   "cell_type": "code",
   "execution_count": 23,
   "id": "bca8650e-006e-4ba3-85c2-87e86016a4af",
   "metadata": {},
   "outputs": [],
   "source": [
    "# Current Working Directory\n",
    "os.chdir(r'C:\\zhouweifile\\Transportation Data\\Singapore Geodatabase')\n",
    "#\n",
    "ROOT_PATH = r'C:\\zhouweifile\\Transportation Data\\Singapore Geodatabase'"
   ]
  },
  {
   "cell_type": "markdown",
   "id": "5b86bfb3-da79-4163-8aa1-9996ed706cfb",
   "metadata": {},
   "source": [
    "# 1. Bus information"
   ]
  },
  {
   "cell_type": "markdown",
   "id": "4be44c55-9a75-430f-ad3a-d4b6e188c4e9",
   "metadata": {},
   "source": [
    "The process of construct bus (transit) network\n",
    "\n",
    "1. `shapefile | geopandas.GeoDataFrame`: bus stop location geography\n",
    "\n",
    "    There are two source:\n",
    "\n",
    "    - from datamall static datasets, `shapefile`\n",
    "    \n",
    "    - from datamall dynamic datasets (API), `csv`\n",
    "\n",
    "2. `csv | pandas.DataFrame`: bus route list\n",
    "\n",
    "    contains the stop list of bus lines\n",
    "    \n",
    "3. `networkx.DiGraph`: bus network\n",
    "\n",
    "    - add edge\n",
    "    \n",
    "    - add node\n",
    "\n",
    "4. `Gephi`: stop (node) list, route (edge) list"
   ]
  },
  {
   "cell_type": "markdown",
   "id": "c10f07a5-7c06-4844-892c-fc25351c408f",
   "metadata": {},
   "source": [
    "## 1.1. Get Bus Stop Location"
   ]
  },
  {
   "cell_type": "code",
   "execution_count": 24,
   "id": "c4a1a793-9f0d-43be-8808-4d04b8e5d19c",
   "metadata": {},
   "outputs": [
    {
     "ename": "AttributeError",
     "evalue": "module 'PyCodesDataProcessingBase.DataProceesingBase_GetBusNet' has no attribute 'ReadBusStopLocCsv'",
     "output_type": "error",
     "traceback": [
      "\u001b[1;31m---------------------------------------------------------------------------\u001b[0m",
      "\u001b[1;31mAttributeError\u001b[0m                            Traceback (most recent call last)",
      "\u001b[1;32m~\\AppData\\Local\\Temp/ipykernel_27376/2980474372.py\u001b[0m in \u001b[0;36m<module>\u001b[1;34m\u001b[0m\n\u001b[0;32m     26\u001b[0m \u001b[1;33m\u001b[0m\u001b[0m\n\u001b[0;32m     27\u001b[0m \u001b[1;33m\u001b[0m\u001b[0m\n\u001b[1;32m---> 28\u001b[1;33m \u001b[0mbus_stop_loc\u001b[0m \u001b[1;33m=\u001b[0m \u001b[0mBusStopLocPd\u001b[0m\u001b[1;33m(\u001b[0m\u001b[1;33m)\u001b[0m\u001b[1;33m\u001b[0m\u001b[1;33m\u001b[0m\u001b[0m\n\u001b[0m\u001b[0;32m     29\u001b[0m \u001b[0mUNION_CRS\u001b[0m \u001b[1;33m=\u001b[0m \u001b[0mbus_stop_loc\u001b[0m\u001b[1;33m.\u001b[0m\u001b[0mcrs\u001b[0m\u001b[1;33m\u001b[0m\u001b[1;33m\u001b[0m\u001b[0m\n",
      "\u001b[1;32m~\\AppData\\Local\\Temp/ipykernel_27376/2980474372.py\u001b[0m in \u001b[0;36mBusStopLocPd\u001b[1;34m()\u001b[0m\n\u001b[0;32m     15\u001b[0m         \u001b[1;34m'bus_stops_2021-12-21.csv'\u001b[0m\u001b[1;33m\u001b[0m\u001b[1;33m\u001b[0m\u001b[0m\n\u001b[0;32m     16\u001b[0m     )\n\u001b[1;32m---> 17\u001b[1;33m     \u001b[0mstop_loc1\u001b[0m \u001b[1;33m=\u001b[0m \u001b[0mgbn\u001b[0m\u001b[1;33m.\u001b[0m\u001b[0mReadBusStopLocCsv\u001b[0m\u001b[1;33m(\u001b[0m\u001b[0mpath\u001b[0m\u001b[1;33m)\u001b[0m\u001b[1;33m\u001b[0m\u001b[1;33m\u001b[0m\u001b[0m\n\u001b[0m\u001b[0;32m     18\u001b[0m \u001b[1;33m\u001b[0m\u001b[0m\n\u001b[0;32m     19\u001b[0m     \u001b[1;31m# unify the geometry CRS\u001b[0m\u001b[1;33m\u001b[0m\u001b[1;33m\u001b[0m\u001b[1;33m\u001b[0m\u001b[0m\n",
      "\u001b[1;31mAttributeError\u001b[0m: module 'PyCodesDataProcessingBase.DataProceesingBase_GetBusNet' has no attribute 'ReadBusStopLocCsv'"
     ]
    }
   ],
   "source": [
    "def BusStopLocPd():\n",
    "    \n",
    "    # bus location from the shapefile\n",
    "    path = os.path.join(ROOT_PATH, 'Public-Trainsit-Bus', \n",
    "        'Routes & Stop Location', 'Bus Stop Location (from datamall Static Datasets)',\n",
    "        'BusStopLocation_Jan2022',  # 'BusStopLocation_Aug2021',\n",
    "        'BusStop.shp'\n",
    "    )\n",
    "    stop_loc = gbn.ReadBusStopLocShp(path)  \n",
    "    \n",
    "    # bus location from the csv \n",
    "    path = os.path.join(ROOT_PATH, 'Public-Trainsit-Bus', \n",
    "        'Routes & Stop Location', 'Bus Stop Location (from datamall API)',\n",
    "        'bus_stops_2021-12-21',\n",
    "        'bus_stops_2021-12-21.csv'\n",
    "    )\n",
    "    stop_loc1 = gbn.ReadBusStopLocCsv(path)   \n",
    "\n",
    "    # unify the geometry CRS\n",
    "    stop_loc1 = stop_loc1.to_crs(stop_loc.crs)\n",
    "    \n",
    "    # merge, drop depulicate\n",
    "    stop_loc = gbn.BusStopLocUpdate(stop_loc, stop_loc1)\n",
    "    \n",
    "    return stop_loc\n",
    "\n",
    "\n",
    "bus_stop_loc = BusStopLocPd()\n",
    "UNION_CRS = bus_stop_loc.crs"
   ]
  },
  {
   "cell_type": "code",
   "execution_count": null,
   "id": "ccbfa5b0-3c7b-4a2b-8a4e-b66890c6b2fe",
   "metadata": {},
   "outputs": [],
   "source": [
    "# bus_stop_loc.to_file('GeoDatabase/shapefiles/bus_stop_loc/bus_stop_loc.shp')\n",
    "\n",
    "fig = plt.figure(figsize=(10, 8))\n",
    "ax1 = fig.add_subplot(111)\n",
    "ax1 = bus_stop_loc.plot(markersize=1, ax=ax1)"
   ]
  },
  {
   "cell_type": "markdown",
   "id": "f1a28298-8420-4e26-b544-7a5a526e78d8",
   "metadata": {},
   "source": [
    "## 1.2. Get Bus Network"
   ]
  },
  {
   "cell_type": "code",
   "execution_count": null,
   "id": "8de651ae-00cf-4124-8b20-89689083b29e",
   "metadata": {},
   "outputs": [],
   "source": [
    "def BusStopRouteNet():\n",
    "    \n",
    "    # get bus stop location\n",
    "    bus_stop_loc = BusStopLocPd()\n",
    "    \n",
    "    # get bus route list csv file\n",
    "    path = os.path.join(ROOT_PATH, 'Public-Trainsit-Bus', 'Routes & Stop Location',\n",
    "        'Bus Routes (from datamall API)',\n",
    "        'bus_routes_2021-12-21',\n",
    "        'bus_routes_2021-12-21.csv'\n",
    "    )\n",
    "    bus_route = gbr.ReadBusRoute(path)  \n",
    "    \n",
    "    # bus route to network\n",
    "    bus_net = gbr.BusRoute2Net(bust_route)\n",
    "    # bus network add bus stop location \n",
    "    bus_net = gbr.BusNetAddLoc(net, bus_stop_loc)\n",
    "    # processe bus stop of network which have no location info\n",
    "    # still have some problem with this function\n",
    "    bus_net = gbr.NetProcessing(bus_net)\n",
    "    \n",
    "    # nx.write_edgelist(net, path='bus_route_network.csv', delimiter=',')\n",
    "    # nx.write_gexf(net, 'bus_route_network.gexf')\n",
    "    # from networkx.drawing.nx_pydot import write_dot\n",
    "    # write_dot(net, 'bus_route_network.dot')\n",
    "    # nx.write_gexf(net, 'bus_route_network.gexf')\n",
    "    \n",
    "    return bus_route, bus_net\n",
    "# ----------------------------------------------------------------------\n",
    "\n",
    "\n",
    "bus_route, bus_net = BusStopRouteNet()\n",
    "\n",
    "# bus network to node list and edge list, which are input to Gephi\n",
    "# node_pd, edge_pd = gbr.BusNet2NodeEgesPd(bus_net)\n",
    "# path = os.path.join(ROOT_PATH, 'Public-Trainsit-Bus', 'Gephi-BusNeworks')\n",
    "# node_pd.to_csv(os.join.path(path, 'bus_network_node_list_2022-01-19.csv'), index=False)\n",
    "# edge_pd.to_csv(os.join.path(path, 'bus_network_edge_list_2022-01-19.csv'), index=False)\n",
    "\n",
    "# bus route to shapefile\n",
    "bus_route_shp = gbr.Route2Shp(bus_route, bus_stop_loc)"
   ]
  },
  {
   "cell_type": "code",
   "execution_count": null,
   "id": "b1b5383a-9d0a-4bf8-a39a-04c1b35c8d16",
   "metadata": {},
   "outputs": [],
   "source": [
    "# route_shp.to_file('GeoDatabase/shapefiles/bus_line/bus_line.shp')\n",
    "\n",
    "fig = plt.figure(figsize=(10, 8))\n",
    "ax1 = fig.add_subplot(111)\n",
    "ax1 = route_shp.plot(lw=0.5, alpha=0.5, ax=ax1)\n",
    "ax1 = bus_stop_loc.plot(color='red', markersize=1, ax=ax1)"
   ]
  },
  {
   "cell_type": "markdown",
   "id": "53401a5d-3cb8-47cd-95cc-b7c738e133e2",
   "metadata": {},
   "source": [
    "## 1.3. Bus Stop Value"
   ]
  },
  {
   "cell_type": "code",
   "execution_count": null,
   "id": "595c393f-e5a3-4107-bba0-9c80ea4da735",
   "metadata": {},
   "outputs": [],
   "source": [
    "vol_date = '202112'\n",
    "path = os.path.join(ROOT_PATH, 'Public-Trainsit-Bus', 'Volume', \n",
    "    'transport_node_bus_{0}'.format(vol_date[:4]),\n",
    "    'transport_node_bus_{0}.csv'.format(vol_date)\n",
    ")\n",
    "bus_stop_vol = gtv.GetStopVol(path)\n",
    "display(bus_stop_vol.head())\n",
    "# explore the nan of bus_stop_vol\n",
    "bus_stop_vol.notna().sum().plot(kind='bar', figsize=(16, 4), width=0.8)\n",
    "\n",
    "bus_stop_vol = gtv.MergeStopVolLoc(bus_stop_vol, bus_stop_loc, merge_how='outer')\n",
    "bus_stop_vol = gpd.GeoDataFrame(bus_stop_vol)\n",
    "\n",
    "display(bus_stop_vol.head())\n",
    "print(type(bus_stop_vol), bus_stop_vol.shape)"
   ]
  },
  {
   "cell_type": "code",
   "execution_count": null,
   "id": "73f5297c-387a-4815-979b-b66a07e2f363",
   "metadata": {},
   "outputs": [],
   "source": [
    "# bus_stop_vol.to_file('GeoDatabase/shapefiles/bus_stop_vol/bus_stop_vol_{0}.shp'.format(vol_date))"
   ]
  },
  {
   "cell_type": "markdown",
   "id": "7ee250e5-97f5-464c-bdf1-fae18d98d025",
   "metadata": {},
   "source": [
    "## 1.4. Bus Stop OD Passenger Trip"
   ]
  },
  {
   "cell_type": "code",
   "execution_count": 7,
   "id": "ca8229f8-7457-4a93-815e-d453ee4280ca",
   "metadata": {},
   "outputs": [
    {
     "data": {
      "text/html": [
       "<div>\n",
       "<style scoped>\n",
       "    .dataframe tbody tr th:only-of-type {\n",
       "        vertical-align: middle;\n",
       "    }\n",
       "\n",
       "    .dataframe tbody tr th {\n",
       "        vertical-align: top;\n",
       "    }\n",
       "\n",
       "    .dataframe thead th {\n",
       "        text-align: right;\n",
       "    }\n",
       "</style>\n",
       "<table border=\"1\" class=\"dataframe\">\n",
       "  <thead>\n",
       "    <tr style=\"text-align: center;\">\n",
       "      <th></th>\n",
       "      <th>O_BusStopCode</th>\n",
       "      <th>D_BusStopCode</th>\n",
       "      <th>WD_0</th>\n",
       "      <th>WE_0</th>\n",
       "      <th>WD_1</th>\n",
       "      <th>...</th>\n",
       "      <th>WE_22</th>\n",
       "      <th>WD_23</th>\n",
       "      <th>WE_23</th>\n",
       "      <th>WD_total</th>\n",
       "      <th>WE_total</th>\n",
       "    </tr>\n",
       "  </thead>\n",
       "  <tbody>\n",
       "    <tr>\n",
       "      <th>0</th>\n",
       "      <td>01012</td>\n",
       "      <td>01112</td>\n",
       "      <td>3.0</td>\n",
       "      <td>NaN</td>\n",
       "      <td>98.0</td>\n",
       "      <td>...</td>\n",
       "      <td>6.0</td>\n",
       "      <td>10.0</td>\n",
       "      <td>11.0</td>\n",
       "      <td>998.0</td>\n",
       "      <td>941.0</td>\n",
       "    </tr>\n",
       "    <tr>\n",
       "      <th>1</th>\n",
       "      <td>01012</td>\n",
       "      <td>01113</td>\n",
       "      <td>NaN</td>\n",
       "      <td>NaN</td>\n",
       "      <td>29.0</td>\n",
       "      <td>...</td>\n",
       "      <td>5.0</td>\n",
       "      <td>7.0</td>\n",
       "      <td>6.0</td>\n",
       "      <td>670.0</td>\n",
       "      <td>721.0</td>\n",
       "    </tr>\n",
       "    <tr>\n",
       "      <th>2</th>\n",
       "      <td>01012</td>\n",
       "      <td>01121</td>\n",
       "      <td>17.0</td>\n",
       "      <td>NaN</td>\n",
       "      <td>42.0</td>\n",
       "      <td>...</td>\n",
       "      <td>1.0</td>\n",
       "      <td>1.0</td>\n",
       "      <td>11.0</td>\n",
       "      <td>484.0</td>\n",
       "      <td>430.0</td>\n",
       "    </tr>\n",
       "    <tr>\n",
       "      <th>3</th>\n",
       "      <td>01012</td>\n",
       "      <td>01211</td>\n",
       "      <td>28.0</td>\n",
       "      <td>NaN</td>\n",
       "      <td>15.0</td>\n",
       "      <td>...</td>\n",
       "      <td>5.0</td>\n",
       "      <td>2.0</td>\n",
       "      <td>12.0</td>\n",
       "      <td>478.0</td>\n",
       "      <td>648.0</td>\n",
       "    </tr>\n",
       "    <tr>\n",
       "      <th>4</th>\n",
       "      <td>01012</td>\n",
       "      <td>01311</td>\n",
       "      <td>23.0</td>\n",
       "      <td>NaN</td>\n",
       "      <td>81.0</td>\n",
       "      <td>...</td>\n",
       "      <td>10.0</td>\n",
       "      <td>12.0</td>\n",
       "      <td>22.0</td>\n",
       "      <td>966.0</td>\n",
       "      <td>1042.0</td>\n",
       "    </tr>\n",
       "    <tr>\n",
       "      <th>5</th>\n",
       "      <td>01012</td>\n",
       "      <td>07371</td>\n",
       "      <td>1.0</td>\n",
       "      <td>NaN</td>\n",
       "      <td>1.0</td>\n",
       "      <td>...</td>\n",
       "      <td>NaN</td>\n",
       "      <td>1.0</td>\n",
       "      <td>4.0</td>\n",
       "      <td>33.0</td>\n",
       "      <td>37.0</td>\n",
       "    </tr>\n",
       "    <tr>\n",
       "      <th>6</th>\n",
       "      <td>01012</td>\n",
       "      <td>60011</td>\n",
       "      <td>NaN</td>\n",
       "      <td>NaN</td>\n",
       "      <td>6.0</td>\n",
       "      <td>...</td>\n",
       "      <td>NaN</td>\n",
       "      <td>NaN</td>\n",
       "      <td>NaN</td>\n",
       "      <td>82.0</td>\n",
       "      <td>38.0</td>\n",
       "    </tr>\n",
       "    <tr>\n",
       "      <th>7</th>\n",
       "      <td>01012</td>\n",
       "      <td>60021</td>\n",
       "      <td>NaN</td>\n",
       "      <td>NaN</td>\n",
       "      <td>4.0</td>\n",
       "      <td>...</td>\n",
       "      <td>NaN</td>\n",
       "      <td>NaN</td>\n",
       "      <td>NaN</td>\n",
       "      <td>46.0</td>\n",
       "      <td>36.0</td>\n",
       "    </tr>\n",
       "    <tr>\n",
       "      <th>8</th>\n",
       "      <td>01012</td>\n",
       "      <td>60031</td>\n",
       "      <td>7.0</td>\n",
       "      <td>NaN</td>\n",
       "      <td>7.0</td>\n",
       "      <td>...</td>\n",
       "      <td>4.0</td>\n",
       "      <td>3.0</td>\n",
       "      <td>7.0</td>\n",
       "      <td>276.0</td>\n",
       "      <td>489.0</td>\n",
       "    </tr>\n",
       "    <tr>\n",
       "      <th>9</th>\n",
       "      <td>01012</td>\n",
       "      <td>60159</td>\n",
       "      <td>1.0</td>\n",
       "      <td>NaN</td>\n",
       "      <td>NaN</td>\n",
       "      <td>...</td>\n",
       "      <td>NaN</td>\n",
       "      <td>NaN</td>\n",
       "      <td>NaN</td>\n",
       "      <td>85.0</td>\n",
       "      <td>125.0</td>\n",
       "    </tr>\n",
       "  </tbody>\n",
       "</table>\n",
       "<p>10 rows × 52 columns</p>\n",
       "</div>"
      ],
      "text/plain": [
       "  O_BusStopCode D_BusStopCode  WD_0  WE_0  WD_1  ...  WE_22  WD_23  WE_23  WD_total  WE_total\n",
       "0      01012         01112      3.0  NaN   98.0  ...   6.0   10.0   11.0     998.0     941.0 \n",
       "1      01012         01113      NaN  NaN   29.0  ...   5.0    7.0    6.0     670.0     721.0 \n",
       "2      01012         01121     17.0  NaN   42.0  ...   1.0    1.0   11.0     484.0     430.0 \n",
       "3      01012         01211     28.0  NaN   15.0  ...   5.0    2.0   12.0     478.0     648.0 \n",
       "4      01012         01311     23.0  NaN   81.0  ...  10.0   12.0   22.0     966.0    1042.0 \n",
       "5      01012         07371      1.0  NaN    1.0  ...   NaN    1.0    4.0      33.0      37.0 \n",
       "6      01012         60011      NaN  NaN    6.0  ...   NaN    NaN    NaN      82.0      38.0 \n",
       "7      01012         60021      NaN  NaN    4.0  ...   NaN    NaN    NaN      46.0      36.0 \n",
       "8      01012         60031      7.0  NaN    7.0  ...   4.0    3.0    7.0     276.0     489.0 \n",
       "9      01012         60159      1.0  NaN    NaN  ...   NaN    NaN    NaN      85.0     125.0 \n",
       "\n",
       "[10 rows x 52 columns]"
      ]
     },
     "metadata": {},
     "output_type": "display_data"
    },
    {
     "data": {
      "text/plain": [
       "(324763, 52)"
      ]
     },
     "metadata": {},
     "output_type": "display_data"
    }
   ],
   "source": [
    "# data: year mouth\n",
    "VOL_DATE = '202112'\n",
    "\n",
    "path = os.path.join(ROOT_PATH, 'Public-Trainsit-Bus', 'Volume', \n",
    "    'origin_destination_bus_{0}'.format(VOL_DATE[:4]),\n",
    "    'origin_destination_bus_{0}.csv'.format(VOL_DATE)\n",
    ")\n",
    "\n",
    "odtrip = gtv.GetODTrip(path)\n",
    "\n",
    "display(odtrip.head(10), odtrip.shape)\n",
    "# odtrip.info()\n",
    "# allday (312326, 3)"
   ]
  },
  {
   "cell_type": "markdown",
   "id": "1a89208c-50da-44e3-bf6c-a0678a304797",
   "metadata": {},
   "source": [
    "### 1.4.2. Add OD Trip With Stop Location Info"
   ]
  },
  {
   "cell_type": "code",
   "execution_count": 8,
   "id": "d4c1289e-f5bc-48c9-90be-5f6204a2bda4",
   "metadata": {},
   "outputs": [
    {
     "name": "stderr",
     "output_type": "stream",
     "text": [
      "C:\\Users\\e0751551\\.conda\\envs\\py37geo\\lib\\site-packages\\ipykernel_launcher.py:2: UserWarning: Column names longer than 10 characters will be truncated when saved to ESRI Shapefile.\n",
      "  \n"
     ]
    }
   ],
   "source": [
    "odtrip_shp =  gtv.ODTrip2Shp(odtrip, bus_stop_loc)\n",
    "\n",
    "# save to file\n",
    "# odtrip_shp.to_file('GeoDatabase/shapefiles/bus_stop_vol_OD/bus_OD_{0}.shp'.format(VOL_DATE))"
   ]
  },
  {
   "cell_type": "markdown",
   "id": "9192a15d-c093-4545-aa51-9cb4e2e64388",
   "metadata": {},
   "source": [
    "# 2. Train information"
   ]
  },
  {
   "cell_type": "markdown",
   "id": "0522285b-7e92-444d-8991-ff51f3501a4f",
   "metadata": {},
   "source": [
    "## 2.1. Get MRT Station Location"
   ]
  },
  {
   "cell_type": "code",
   "execution_count": 9,
   "id": "4039c1be-4ead-4bf4-b43e-771dd71b7fd0",
   "metadata": {},
   "outputs": [
    {
     "data": {
      "text/plain": [
       "(164, 8)"
      ]
     },
     "metadata": {},
     "output_type": "display_data"
    },
    {
     "data": {
      "text/html": [
       "<div>\n",
       "<style scoped>\n",
       "    .dataframe tbody tr th:only-of-type {\n",
       "        vertical-align: middle;\n",
       "    }\n",
       "\n",
       "    .dataframe tbody tr th {\n",
       "        vertical-align: top;\n",
       "    }\n",
       "\n",
       "    .dataframe thead th {\n",
       "        text-align: right;\n",
       "    }\n",
       "</style>\n",
       "<table border=\"1\" class=\"dataframe\">\n",
       "  <thead>\n",
       "    <tr style=\"text-align: center;\">\n",
       "      <th></th>\n",
       "      <th>station</th>\n",
       "      <th>id</th>\n",
       "      <th>opening</th>\n",
       "      <th>buildstart</th>\n",
       "      <th>closure</th>\n",
       "      <th>line</th>\n",
       "      <th>system</th>\n",
       "      <th>geometry</th>\n",
       "    </tr>\n",
       "  </thead>\n",
       "  <tbody>\n",
       "    <tr>\n",
       "      <th>0</th>\n",
       "      <td>Admiralty</td>\n",
       "      <td>18055</td>\n",
       "      <td>1996</td>\n",
       "      <td>1991</td>\n",
       "      <td>999999.0</td>\n",
       "      <td>North-South Line</td>\n",
       "      <td>SMRT Trains</td>\n",
       "      <td>POINT (24400.103 46923.089)</td>\n",
       "    </tr>\n",
       "    <tr>\n",
       "      <th>1</th>\n",
       "      <td>Aljunied</td>\n",
       "      <td>18072</td>\n",
       "      <td>1989</td>\n",
       "      <td>1985</td>\n",
       "      <td>999999.0</td>\n",
       "      <td>East-West Line</td>\n",
       "      <td>SMRT Trains</td>\n",
       "      <td>POINT (33516.819 33190.819)</td>\n",
       "    </tr>\n",
       "    <tr>\n",
       "      <th>2</th>\n",
       "      <td>Ang Mo Kio</td>\n",
       "      <td>17963</td>\n",
       "      <td>1987</td>\n",
       "      <td>1987</td>\n",
       "      <td>999999.0</td>\n",
       "      <td>North-South Line</td>\n",
       "      <td>SMRT Trains</td>\n",
       "      <td>POINT (29801.909 39120.901)</td>\n",
       "    </tr>\n",
       "    <tr>\n",
       "      <th>3</th>\n",
       "      <td>Bakau</td>\n",
       "      <td>18270</td>\n",
       "      <td>2003</td>\n",
       "      <td>2000</td>\n",
       "      <td>999999.0</td>\n",
       "      <td>Sengkang LRT line</td>\n",
       "      <td>SBS Transit</td>\n",
       "      <td>POINT (36027.295 41112.472)</td>\n",
       "    </tr>\n",
       "    <tr>\n",
       "      <th>4</th>\n",
       "      <td>Bangkit</td>\n",
       "      <td>18260</td>\n",
       "      <td>1999</td>\n",
       "      <td>1996</td>\n",
       "      <td>999999.0</td>\n",
       "      <td>Bukit Panjang LRT Line</td>\n",
       "      <td>SMRT Trains</td>\n",
       "      <td>POINT (21247.236 40225.625)</td>\n",
       "    </tr>\n",
       "  </tbody>\n",
       "</table>\n",
       "</div>"
      ],
      "text/plain": [
       "    station     id    opening  buildstart   closure           line             system              geometry          \n",
       "0   Admiralty  18055   1996       1991     999999.0        North-South Line  SMRT Trains  POINT (24400.103 46923.089)\n",
       "1    Aljunied  18072   1989       1985     999999.0          East-West Line  SMRT Trains  POINT (33516.819 33190.819)\n",
       "2  Ang Mo Kio  17963   1987       1987     999999.0        North-South Line  SMRT Trains  POINT (29801.909 39120.901)\n",
       "3       Bakau  18270   2003       2000     999999.0       Sengkang LRT line  SBS Transit  POINT (36027.295 41112.472)\n",
       "4     Bangkit  18260   1999       1996     999999.0  Bukit Panjang LRT Line  SMRT Trains  POINT (21247.236 40225.625)"
      ]
     },
     "metadata": {},
     "output_type": "display_data"
    }
   ],
   "source": [
    "ROOT_PATH = r'C:\\zhouweifile\\Transportation Data\\Singapore Geodatabase'\n",
    "path = os.path.join(ROOT_PATH, 'Public-Trainsit-Train', 'Station Location', \n",
    "    'Station Location (from datamall Static Datasets)', \n",
    "    'TrainStation_Jan2022',\n",
    "    'MRTLRTStnPtt.shp'\n",
    ")\n",
    "\n",
    "\n",
    "\n",
    "path = os.path.join(ROOT_PATH, 'Transport-Network', '[Citylines]Rail Networks', \n",
    "    '2022.01.23', 'shapefile', 'MRT_station.shp')\n",
    "\n",
    "# path = os.path.join(ROOT_PATH, 'Public-Trainsit-Train', 'Station Location', \n",
    "#     'Station Location (from datamall Static Datasets)', \n",
    "#     'TrainStation_Jan2022',\n",
    "#     'MRTLRTStnPtt.shp'\n",
    "# )\n",
    "\n",
    "train_sta_loc = gpd.read_file(path)\n",
    "train_sta_loc = train_sta_loc.to_crs(UNION_CRS)\n",
    "\n",
    "display(train_sta_loc.shape, train_sta_loc.head(5))"
   ]
  },
  {
   "cell_type": "markdown",
   "id": "9cdb16d5-af1b-4a2b-9a48-49e95bac0f2b",
   "metadata": {},
   "source": [
    "## 2.2. Get MRT Route Location"
   ]
  },
  {
   "cell_type": "code",
   "execution_count": 41,
   "id": "c7ad8a71-e4c7-4a3d-b271-3ac7d69ec01c",
   "metadata": {},
   "outputs": [
    {
     "data": {
      "text/html": [
       "<div>\n",
       "<style scoped>\n",
       "    .dataframe tbody tr th:only-of-type {\n",
       "        vertical-align: middle;\n",
       "    }\n",
       "\n",
       "    .dataframe tbody tr th {\n",
       "        vertical-align: top;\n",
       "    }\n",
       "\n",
       "    .dataframe thead th {\n",
       "        text-align: right;\n",
       "    }\n",
       "</style>\n",
       "<table border=\"1\" class=\"dataframe\">\n",
       "  <thead>\n",
       "    <tr style=\"text-align: center;\">\n",
       "      <th></th>\n",
       "      <th>start</th>\n",
       "      <th>end</th>\n",
       "      <th>line</th>\n",
       "      <th>system</th>\n",
       "      <th>geometry</th>\n",
       "    </tr>\n",
       "  </thead>\n",
       "  <tbody>\n",
       "    <tr>\n",
       "      <th>0</th>\n",
       "      <td>18055</td>\n",
       "      <td>18054</td>\n",
       "      <td>North-South Line</td>\n",
       "      <td>SMRT Trains</td>\n",
       "      <td>LINESTRING (24400.103 46923.089, 22875.496 464...</td>\n",
       "    </tr>\n",
       "    <tr>\n",
       "      <th>1</th>\n",
       "      <td>18055</td>\n",
       "      <td>18056</td>\n",
       "      <td>North-South Line</td>\n",
       "      <td>SMRT Trains</td>\n",
       "      <td>LINESTRING (24400.103 46923.089, 26520.079 478...</td>\n",
       "    </tr>\n",
       "    <tr>\n",
       "      <th>2</th>\n",
       "      <td>18072</td>\n",
       "      <td>18210</td>\n",
       "      <td>East-West Line</td>\n",
       "      <td>SMRT Trains</td>\n",
       "      <td>LINESTRING (33516.819 33190.819, 34593.550 333...</td>\n",
       "    </tr>\n",
       "    <tr>\n",
       "      <th>3</th>\n",
       "      <td>18072</td>\n",
       "      <td>18071</td>\n",
       "      <td>East-West Line</td>\n",
       "      <td>SMRT Trains</td>\n",
       "      <td>LINESTRING (33516.819 33190.819, 32232.537 326...</td>\n",
       "    </tr>\n",
       "    <tr>\n",
       "      <th>4</th>\n",
       "      <td>17963</td>\n",
       "      <td>17962</td>\n",
       "      <td>North-South Line</td>\n",
       "      <td>SMRT Trains</td>\n",
       "      <td>LINESTRING (29801.909 39120.901, 29293.317 404...</td>\n",
       "    </tr>\n",
       "  </tbody>\n",
       "</table>\n",
       "</div>"
      ],
      "text/plain": [
       "  start   end          line          system                         geometry                     \n",
       "0  18055  18054  North-South Line  SMRT Trains  LINESTRING (24400.103 46923.089, 22875.496 464...\n",
       "1  18055  18056  North-South Line  SMRT Trains  LINESTRING (24400.103 46923.089, 26520.079 478...\n",
       "2  18072  18210    East-West Line  SMRT Trains  LINESTRING (33516.819 33190.819, 34593.550 333...\n",
       "3  18072  18071    East-West Line  SMRT Trains  LINESTRING (33516.819 33190.819, 32232.537 326...\n",
       "4  17963  17962  North-South Line  SMRT Trains  LINESTRING (29801.909 39120.901, 29293.317 404..."
      ]
     },
     "metadata": {},
     "output_type": "display_data"
    }
   ],
   "source": [
    "path = os.path.join(ROOT_PATH, 'Transport-Network', '[Citylines]Rail Networks', \n",
    "    '2022.01.23', 'shapefile', 'MRT_route.shp')\n",
    "\n",
    "train_route_loc = gpd.read_file(path)\n",
    "train_route_loc = train_route_loc.to_crs(UNION_CRS)\n",
    "\n",
    "display(train_route_loc.head(5))"
   ]
  },
  {
   "cell_type": "code",
   "execution_count": 42,
   "id": "f37aea87-7245-4d93-a5e6-f9692f915fa5",
   "metadata": {},
   "outputs": [
    {
     "data": {
      "image/png": "[encoded data removed]",
      "text/plain": [
       "<Figure size 720x576 with 1 Axes>"
      ]
     },
     "metadata": {
      "needs_background": "light"
     },
     "output_type": "display_data"
    }
   ],
   "source": [
    "fig = plt.figure(figsize=(10, 8))\n",
    "ax1 = fig.add_subplot(111)\n",
    "ax1 = train_route_loc.plot(lw=2, alpha=1, ax=ax1)\n",
    "ax1 = train_sta_loc.plot(color='red', markersize=10, ax=ax1)"
   ]
  },
  {
   "cell_type": "markdown",
   "id": "a914f74c-f099-45d7-b320-a4a41a921b92",
   "metadata": {},
   "source": [
    "## 2.3. MRT Station Volume"
   ]
  },
  {
   "cell_type": "code",
   "execution_count": 39,
   "id": "ce8b7786-7452-44d9-98c4-9173298d2b1e",
   "metadata": {},
   "outputs": [
    {
     "data": {
      "text/html": [
       "<div>\n",
       "<style scoped>\n",
       "    .dataframe tbody tr th:only-of-type {\n",
       "        vertical-align: middle;\n",
       "    }\n",
       "\n",
       "    .dataframe tbody tr th {\n",
       "        vertical-align: top;\n",
       "    }\n",
       "\n",
       "    .dataframe thead th {\n",
       "        text-align: right;\n",
       "    }\n",
       "</style>\n",
       "<table border=\"1\" class=\"dataframe\">\n",
       "  <thead>\n",
       "    <tr style=\"text-align: center;\">\n",
       "      <th></th>\n",
       "      <th>IN_WD_0</th>\n",
       "      <th>IN_WD_10</th>\n",
       "      <th>IN_WD_11</th>\n",
       "      <th>IN_WD_12</th>\n",
       "      <th>IN_WD_13</th>\n",
       "      <th>...</th>\n",
       "      <th>IN_WD_total</th>\n",
       "      <th>IN_WE_total</th>\n",
       "      <th>OUT_WD_total</th>\n",
       "      <th>OUT_WE_total</th>\n",
       "      <th>BusStopCode</th>\n",
       "    </tr>\n",
       "  </thead>\n",
       "  <tbody>\n",
       "    <tr>\n",
       "      <th>0</th>\n",
       "      <td>0.0</td>\n",
       "      <td>3372.0</td>\n",
       "      <td>3151.0</td>\n",
       "      <td>3163.0</td>\n",
       "      <td>2944.0</td>\n",
       "      <td>...</td>\n",
       "      <td>58739.0</td>\n",
       "      <td>15034.0</td>\n",
       "      <td>62486.0</td>\n",
       "      <td>17459.0</td>\n",
       "      <td>BP10</td>\n",
       "    </tr>\n",
       "    <tr>\n",
       "      <th>1</th>\n",
       "      <td>NaN</td>\n",
       "      <td>3524.0</td>\n",
       "      <td>3346.0</td>\n",
       "      <td>3238.0</td>\n",
       "      <td>3001.0</td>\n",
       "      <td>...</td>\n",
       "      <td>61677.0</td>\n",
       "      <td>16128.0</td>\n",
       "      <td>49753.0</td>\n",
       "      <td>12897.0</td>\n",
       "      <td>BP11</td>\n",
       "    </tr>\n",
       "    <tr>\n",
       "      <th>2</th>\n",
       "      <td>NaN</td>\n",
       "      <td>2373.0</td>\n",
       "      <td>2521.0</td>\n",
       "      <td>2352.0</td>\n",
       "      <td>2287.0</td>\n",
       "      <td>...</td>\n",
       "      <td>42597.0</td>\n",
       "      <td>10113.0</td>\n",
       "      <td>31115.0</td>\n",
       "      <td>7519.0</td>\n",
       "      <td>BP12</td>\n",
       "    </tr>\n",
       "    <tr>\n",
       "      <th>3</th>\n",
       "      <td>0.0</td>\n",
       "      <td>1578.0</td>\n",
       "      <td>1537.0</td>\n",
       "      <td>1505.0</td>\n",
       "      <td>1324.0</td>\n",
       "      <td>...</td>\n",
       "      <td>27981.0</td>\n",
       "      <td>7070.0</td>\n",
       "      <td>17984.0</td>\n",
       "      <td>4242.0</td>\n",
       "      <td>BP13</td>\n",
       "    </tr>\n",
       "    <tr>\n",
       "      <th>4</th>\n",
       "      <td>NaN</td>\n",
       "      <td>3062.0</td>\n",
       "      <td>3107.0</td>\n",
       "      <td>2993.0</td>\n",
       "      <td>2626.0</td>\n",
       "      <td>...</td>\n",
       "      <td>54480.0</td>\n",
       "      <td>14713.0</td>\n",
       "      <td>42139.0</td>\n",
       "      <td>12347.0</td>\n",
       "      <td>BP2</td>\n",
       "    </tr>\n",
       "  </tbody>\n",
       "</table>\n",
       "<p>5 rows × 85 columns</p>\n",
       "</div>"
      ],
      "text/plain": [
       "   IN_WD_0  IN_WD_10  IN_WD_11  IN_WD_12  IN_WD_13  ...  IN_WD_total  IN_WE_total  OUT_WD_total  OUT_WE_total  BusStopCode\n",
       "0    0.0     3372.0    3151.0    3163.0    2944.0   ...    58739.0      15034.0       62486.0       17459.0       BP10    \n",
       "1    NaN     3524.0    3346.0    3238.0    3001.0   ...    61677.0      16128.0       49753.0       12897.0       BP11    \n",
       "2    NaN     2373.0    2521.0    2352.0    2287.0   ...    42597.0      10113.0       31115.0        7519.0       BP12    \n",
       "3    0.0     1578.0    1537.0    1505.0    1324.0   ...    27981.0       7070.0       17984.0        4242.0       BP13    \n",
       "4    NaN     3062.0    3107.0    2993.0    2626.0   ...    54480.0      14713.0       42139.0       12347.0        BP2    \n",
       "\n",
       "[5 rows x 85 columns]"
      ]
     },
     "metadata": {},
     "output_type": "display_data"
    },
    {
     "name": "stdout",
     "output_type": "stream",
     "text": [
      "(164,) (164, 8)\n"
     ]
    }
   ],
   "source": [
    "vol_date = '202112'\n",
    "path = os.path.join(ROOT_PATH, 'Public-Trainsit-Train', 'Volume', \n",
    "    'transport_node_train_{0}'.format(vol_date[:4]),\n",
    "    'transport_node_train_{0}.csv'.format(vol_date)\n",
    ")\n",
    "\n",
    "train_sta_vol = gtv.GetStopVol(path)\n",
    "display(train_sta_vol.head(5))\n",
    "print(train_sta_vol['BusStopCode'].unique().shape, train_sta_loc.shape)"
   ]
  },
  {
   "cell_type": "markdown",
   "id": "9c772c8f-ab54-4a0d-815d-e6f43ba654af",
   "metadata": {},
   "source": [
    "# 3. Zone information"
   ]
  },
  {
   "cell_type": "markdown",
   "id": "52290ea0-b3ff-4836-a026-41d973cf375c",
   "metadata": {},
   "source": [
    "## 3.1. Read Zone"
   ]
  },
  {
   "cell_type": "code",
   "execution_count": null,
   "id": "db792dc9-ebe0-4739-9bc1-c93468a3eda2",
   "metadata": {},
   "outputs": [],
   "source": [
    "path = os.path.join(ROOT_PATH, 'Zones',\n",
    "    'master-plan-2019-subzone-boundary-no-sea', \n",
    "    'master-plan-2019-subzone-boundary-no-sea-kml.kml'\n",
    ")\n",
    "\n",
    "# transform the CRS of zone\n",
    "zone = gzp.ReadZoneShp(path).to_crs(bus_stop_loc.crs)\n",
    "# print(zone.columns)\n",
    "\n",
    "zone1 = zone.dissolve(by='PLN_AREA_C', as_index=False, aggfunc='first')\n",
    "# 'SUBZONE_C', 'PLN_AREA_C', 'REGION_C'\n",
    "\n",
    "display(zone.head())\n",
    "display(zone1.head())"
   ]
  },
  {
   "cell_type": "code",
   "execution_count": null,
   "id": "7dcc39df-dfd8-4d1d-83b8-62c7e5a90510",
   "metadata": {},
   "outputs": [],
   "source": [
    "# zone.to_file('GeoDatabase/shapefiles/zone/zone.shp')\n",
    "\n",
    "fig = plt.figure(figsize=(15, 10))\n",
    "ax1 = fig.add_subplot(111)\n",
    "ax1 = zone.plot(alpha=0.3, edgecolor='black', linewidth=1, ax=ax1)\n",
    "ax1 = zone.centroid.plot(color='green', markersize=2, ax=ax1)\n",
    "\n",
    "fig = plt.figure(figsize=(15, 10))\n",
    "ax1 = fig.add_subplot(111)\n",
    "ax1 = zone1.plot(alpha=0.3, edgecolor='black', linewidth=1, ax=ax1)\n",
    "ax1 = zone1.centroid.plot(color='green', markersize=2, ax=ax1)"
   ]
  },
  {
   "cell_type": "markdown",
   "id": "ec09bd3d-3e31-4a88-abda-9256f282a225",
   "metadata": {},
   "source": [
    "## 3.2. Read Population"
   ]
  },
  {
   "cell_type": "code",
   "execution_count": null,
   "id": "cc023f2b-9864-47ef-bf97-58df538c061b",
   "metadata": {},
   "outputs": [],
   "source": [
    "path = os.path.join(ROOT_PATH, 'Populations',\n",
    "    'singapore-residents-by-subzone-and-type-of-dwelling-2011-2019', \n",
    "    'planning-area-subzone-age-group-sex-and-type-of-dwelling-june-2011-2019.csv')\n",
    "pop_raw = gzp.ReadZonePop(path)  \n",
    "\n",
    "display(pop_raw.head())\n",
    "# check SUBZONE_N and PLN_AREA_N column categorical values\n",
    "# of pop_raw and zone whether are identical\n",
    "gzp.CheckPopAndZoneMatch(pop_raw, zone)\n",
    "\n",
    "pop = gzp.PopExtract(pop_raw, attrib='type_of_dwelling', zone_level='SUBZONE_N', year='2019')\n",
    "pop1 = gzp.PopExtract(pop_raw, attrib='year', zone_level='PLN_AREA_N')\n",
    "display(pop.head())\n",
    "display(pop1.head())"
   ]
  },
  {
   "cell_type": "markdown",
   "id": "2657179b-f516-40f2-a55f-93d78f6d3fa7",
   "metadata": {},
   "source": [
    "## 3.3. Merge Zone and Population"
   ]
  },
  {
   "cell_type": "code",
   "execution_count": null,
   "id": "75e39704-32f7-4a6b-be02-25b5f304eaa4",
   "metadata": {},
   "outputs": [],
   "source": [
    "zone_pop = gzp.ZoneAddPop(zone, pop, zone_level='SUBZONE_N')\n",
    "zone_pop1 = gzp.ZoneAddPop(zone1, pop1, zone_level='PLN_AREA_N')\n",
    "\n",
    "display(zone_pop.head())\n",
    "display(zone_pop1.head())\n",
    "\n",
    "print(zone_pop.shape, zone_pop1.shape)\n",
    "\n",
    "\n",
    "'''\n",
    "# save file\n",
    "pop = gzp.PopExtract(pop_raw, attrib='year', zone_level='SUBZONE_N')\n",
    "pop = gzp.ZoneAddPop(zone, pop, zone_level='SUBZONE_N')\n",
    "pop.to_file('GeoDatabase/shapefiles/population/population_by_year.shp')\n",
    "\n",
    "pop = gzp.PopExtract(pop_raw, attrib='type_of_dwelling', zone_level='SUBZONE_N', year='2019')\n",
    "pop = gzp.ZoneAddPop(zone, pop, zone_level='SUBZONE_N')\n",
    "pop.to_file('GeoDatabase/shapefiles/population/population_by_type_2019.shp')\n",
    "\n",
    "pop = gzp.PopExtract(pop_raw, attrib='sex', zone_level='SUBZONE_N', year='2019')\n",
    "pop = gzp.ZoneAddPop(zone, pop, zone_level='SUBZONE_N')\n",
    "pop.to_file('GeoDatabase/shapefiles/population/population_by_sex_2019.shp')\n",
    "\n",
    "pop = gzp.PopExtract(pop_raw, attrib='age_group', zone_level='SUBZONE_N', year='2019')\n",
    "pop = gzp.ZoneAddPop(zone, pop, zone_level='SUBZONE_N')\n",
    "pop.to_file('GeoDatabase/shapefiles/population/population_by_age_2019.shp')\n",
    "'''"
   ]
  },
  {
   "cell_type": "code",
   "execution_count": null,
   "id": "d3c39ca0-bde6-4ef0-932e-55fc0e6633bf",
   "metadata": {},
   "outputs": [],
   "source": [
    "data = zone_pop\n",
    "col = 'total'\n",
    "\n",
    "fig = plt.figure(figsize=(15, 10))\n",
    "ax1 = fig.add_subplot(111)\n",
    "\n",
    "from mpl_toolkits.axes_grid1 import make_axes_locatable\n",
    "divider = make_axes_locatable(ax1)\n",
    "cax = divider.append_axes(\"right\", size=\"5%\", pad=0.1)\n",
    "\n",
    "ax1 = data.plot(col, \n",
    "    alpha=0.3, edgecolor='black', linewidth=1, ax=ax1, \n",
    "    vmax=data[col].max(), vmin=data[col].min(),\n",
    "    # cmap='cool', \n",
    "    legend=True, cax=cax\n",
    ")"
   ]
  },
  {
   "cell_type": "code",
   "execution_count": null,
   "id": "4d78acd6-5d67-4d51-a7b3-9587019672c3",
   "metadata": {},
   "outputs": [],
   "source": []
  },
  {
   "cell_type": "code",
   "execution_count": null,
   "id": "3f4ab2f7-4289-4a86-8f1c-8e8977ea6734",
   "metadata": {},
   "outputs": [],
   "source": []
  }
 ],
 "metadata": {
  "kernelspec": {
   "display_name": "Python 3 (ipykernel)",
   "language": "python",
   "name": "python3"
  },
  "language_info": {
   "codemirror_mode": {
    "name": "ipython",
    "version": 3
   },
   "file_extension": ".py",
   "mimetype": "text/x-python",
   "name": "python",
   "nbconvert_exporter": "python",
   "pygments_lexer": "ipython3",
   "version": "3.7.12"
  }
 },
 "nbformat": 4,
 "nbformat_minor": 5
}
